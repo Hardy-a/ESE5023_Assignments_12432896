{
 "cells": [
  {
   "cell_type": "code",
   "execution_count": 88,
   "id": "8da1a8a1-061f-4adf-9424-661e8b078461",
   "metadata": {},
   "outputs": [
    {
     "name": "stdout",
     "output_type": "stream",
     "text": [
      "The result is: 5\n"
     ]
    }
   ],
   "source": [
    "# 1. Flowchart\n",
    "def Print_values(a, b, c):\n",
    "    # Check if a is bigger than b\n",
    "    if a > b:\n",
    "        # Check if b is bigger than c\n",
    "        if b > c:\n",
    "            # If both conditions are true, return \"a, b, c\"\n",
    "            a, b, c = a, b, c\n",
    "        else:\n",
    "            # If b <= c, check if a is bigger than c\n",
    "            if a > c:\n",
    "                # If b <= c and a > c, return \"a, c, b\"\n",
    "                a, b, c = a, c, b\n",
    "            else:\n",
    "                # If b <= c and a > c, return \"c, a, b\"\n",
    "                a, b, c = c, a, b\n",
    "    else:\n",
    "        # If a <= b, check if b is bigger than c\n",
    "        if b > c:\n",
    "           print(\"Nothing happens\")\n",
    "           return   \n",
    "        else:\n",
    "            # If neither a > b nor b > c is true, return \"a, b, c\"\n",
    "            a, b, c = c, b, a\n",
    "\n",
    "# Compute and print the expression a + b - 10 * c\n",
    "    result = a + b - 10 * c\n",
    "    print(f\"The result is: {result}\")\n",
    "\n",
    "# Test the function with the given values a=10, b=5, c=1\n",
    "Print_values(10, 5, 1)"
   ]
  },
  {
   "cell_type": "code",
   "execution_count": 17,
   "id": "2293428f-7f6f-4fd2-8adc-b7538a2e963b",
   "metadata": {},
   "outputs": [
    {
     "name": "stdout",
     "output_type": "stream",
     "text": [
      "Continuous ceiling function values: [23, 7, 21, 35, 49]\n"
     ]
    }
   ],
   "source": [
    "# 2. Continuous ceiling function\n",
    "def continuous_ceiling_function(numbers):\n",
    "    \n",
    "    # Calculate the continuous ceiling function values for each element in the given list\n",
    "    # Parameters:\n",
    "    # numbers (list): A list of positive integers.\n",
    "    # Returns:\n",
    "    # list: A list of continuous ceiling function values corresponding to each element.\n",
    "    \n",
    "    def ceiling_func(x, memo):\n",
    "        \n",
    "        # Recursively calculate the value of the continuous ceiling function.\n",
    "        # Parameters:\n",
    "        # x (int): The current element.\n",
    "        # memo (dict): A cache to store already calculated values to avoid redundant computations.\n",
    "        # Returns:\n",
    "        # int: The value of the continuous ceiling function.\n",
    "        \n",
    "        if x == 1:\n",
    "            return 1\n",
    "        if x in memo:\n",
    "            return memo[x]\n",
    "        # Calculate the ceiling value and recursively call the function\n",
    "        result = ceiling_func((x + 2) // 3, memo) + 2 * x\n",
    "        memo[x] = result  # Cache the result\n",
    "        return result\n",
    "\n",
    "    # Use a dictionary to cache the calculation results for each element\n",
    "    memo = {}\n",
    "    results = []\n",
    "    for number in numbers:\n",
    "        result = ceiling_func(number, memo)\n",
    "        results.append(result)\n",
    "    \n",
    "    return results\n",
    "\n",
    "# Example usage with a list of positive integers\n",
    "numbers = [8, 3, 7, 11, 16]  # You can replace this list with any list of positive integers\n",
    "results = continuous_ceiling_function(numbers)\n",
    "print(\"Continuous ceiling function values:\", results)"
   ]
  },
  {
   "cell_type": "code",
   "execution_count": 19,
   "id": "5245e8b5-1ce1-4c0b-badd-0aa5be5abd9b",
   "metadata": {},
   "outputs": [
    {
     "name": "stdin",
     "output_type": "stream",
     "text": [
      "Please select a target_sum between 10 and 60: 20\n"
     ]
    },
    {
     "name": "stdout",
     "output_type": "stream",
     "text": [
      "The number of ways to get sum 20 with 10 dice is: 85228\n"
     ]
    }
   ],
   "source": [
    "# 3. Dice rolling-3.1\n",
    "def Find_number_of_ways(dice: int, faces: int, target_sum: int) -> int:\n",
    "    # Initialize a DP table where dp[i][j] represents the number of ways to get sum j using i dice.\n",
    "    dp = [[0 for _ in range(target_sum + 1)] for _ in range(dice + 1)]\n",
    "    \n",
    "    # There's exactly one way to get sum 0 with 0 dice: do nothing.\n",
    "    dp[0][0] = 1\n",
    "    \n",
    "    # Fill the DP table\n",
    "    for i in range(1, dice + 1):  # For each dice\n",
    "        for j in range(1, target_sum + 1):  # For each possible sum\n",
    "            dp[i][j] = 0\n",
    "            # For each face of the dice (1 through 6)\n",
    "            for face_value in range(1, faces + 1):\n",
    "                if j - face_value >= 0:\n",
    "                    dp[i][j] += dp[i - 1][j - face_value]\n",
    "    \n",
    "    # The answer is the number of ways to get sum target_sum with dice dice.\n",
    "    return dp[dice][target_sum]\n",
    "\n",
    "# Example usage\n",
    "dice = 10\n",
    "faces = 6\n",
    "target_sum = int(input(\"Please select a target_sum between 10 and 60:\" ))  # select target sum\n",
    "result = Find_number_of_ways(dice, faces, target_sum)\n",
    "print(f\"The number of ways to get sum {target_sum} with {dice} dice is: {result}\")"
   ]
  },
  {
   "cell_type": "code",
   "execution_count": 6,
   "id": "f8ea4d3e-5fc2-4e45-99e1-7b97e51df2cd",
   "metadata": {},
   "outputs": [
    {
     "name": "stdout",
     "output_type": "stream",
     "text": [
      " 35  yields the maximum of ways: 4395456 \n"
     ]
    }
   ],
   "source": [
    "# 3. Dice rolling-3.2\n",
    "def Find_number_of_ways(dice: int, faces: int, target_sum: int) -> int:\n",
    "    # Initialize a DP table where dp[i][j] represents the number of ways to get sum j using i dice.\n",
    "    dp = [[0 for _ in range(target_sum + 1)] for _ in range(dice + 1)]\n",
    "    \n",
    "    # There's exactly one way to get sum 0 with 0 dice: do nothing.\n",
    "    dp[0][0] = 1\n",
    "    \n",
    "    # Fill the DP table\n",
    "    for i in range(1, dice + 1):  # For each dice\n",
    "        for j in range(1, target_sum + 1):  # For each possible sum\n",
    "            dp[i][j] = 0\n",
    "            # For each face of the dice (1 through 6)\n",
    "            for face_value in range(1, faces + 1):\n",
    "                if j - face_value >= 0:\n",
    "                    dp[i][j] += dp[i - 1][j - face_value]\n",
    "    \n",
    "    # The answer is the number of ways to get sum target_sum with dice dice.\n",
    "    return dp[dice][target_sum]\n",
    "\n",
    "# Count number of ways for each x from 10 to 60\n",
    "dice = 10\n",
    "faces = 6\n",
    "Number_of_ways = []\n",
    "\n",
    "for x in range(10, 61):  # Sum from 10 to 60\n",
    "    ways = Find_number_of_ways(dice, faces, x)\n",
    "    Number_of_ways.append(ways)\n",
    "\n",
    "# Find the sum x that yields the maximum number of ways\n",
    "max_ways = max(Number_of_ways)\n",
    "max_x = 10 + Number_of_ways.index(max_ways)  # Corresponding sum x\n",
    "\n",
    "print(f\" {max_x}  yields the maximum of ways: {max_ways} \")"
   ]
  },
  {
   "cell_type": "code",
   "execution_count": 1,
   "id": "a66789a7-596e-4c28-8a40-8022193f582c",
   "metadata": {},
   "outputs": [
    {
     "name": "stdin",
     "output_type": "stream",
     "text": [
      "please give a number to N:  5\n"
     ]
    },
    {
     "name": "stdout",
     "output_type": "stream",
     "text": [
      "[10, 0, 7, 0, 9]\n",
      "the sum of the average of all subsets of the array: 161.2\n"
     ]
    }
   ],
   "source": [
    "# 4. Dynamic programming-4.1/4.2\n",
    "import random\n",
    "\n",
    "def Random_integer(N):\n",
    "    # Generate a list of N random integers between 0 and 10\n",
    "    random_array = [random.randint(0, 10) for _ in range(N)]\n",
    "    return random_array\n",
    "\n",
    "# Example usage:\n",
    "N = int(input(\"please give a number to N: \"))\n",
    "\n",
    "array = Random_integer(N)\n",
    "print(array)\n",
    "\n",
    "from itertools import combinations\n",
    "\n",
    "\n",
    "# The statement \"from itertools import combinations\" is importing the combinations function from the itertools module in Python\n",
    "# The itertools.combinations function generates all possible combinations of a specific length (called r) from the elements of a given iterable (like a list or array).\n",
    "# It returns these combinations as tuples, which represent different subsets of the iterable without changing the order of elements.\n",
    "def Sum_averages(array):\n",
    "    total_sum = 0\n",
    "    n = len(array)\n",
    "\n",
    "    # Loop through all possible subset sizes (from 1 to len(arr))\n",
    "    for r in range(1, n + 1):\n",
    "        # Generate all subsets of size r\n",
    "        for subset in combinations(array, r):\n",
    "            # Calculate the average of the current subset and add to total sum\n",
    "            total_sum += sum(subset) / len(subset)\n",
    "\n",
    "    return total_sum\n",
    "\n",
    "# Example usage:\n",
    "result = Sum_averages(array)\n",
    "print(\"the sum of the average of all subsets of the array:\", result)"
   ]
  },
  {
   "cell_type": "code",
   "execution_count": 87,
   "id": "9ed6e531-0675-46dc-8b0f-a29c037b9724",
   "metadata": {},
   "outputs": [
    {
     "data": {
      "image/png": "[encoded data removed]",
      "text/plain": [
       "<Figure size 640x480 with 1 Axes>"
      ]
     },
     "metadata": {},
     "output_type": "display_data"
    },
    {
     "name": "stdout",
     "output_type": "stream",
     "text": [
      "As N increases, the total sum of averages for all subsets of the array also rises, with an accelerating trend in this increase.\n"
     ]
    }
   ],
   "source": [
    "# 4. Dynamic programming-4.3\n",
    "import random\n",
    "import matplotlib.pyplot as plt\n",
    "from itertools import combinations\n",
    "\n",
    "def Random_integer(N):\n",
    "    # Generate a list of N random integers between 0 and 10\n",
    "    random_array = [random.randint(0, 10) for _ in range(N)]\n",
    "    return random_array\n",
    "\n",
    "def Sum_averages(array):\n",
    "    total_sum = 0\n",
    "    n = len(array)\n",
    "\n",
    "    # Loop through all possible subset sizes (from 1 to len(arr))\n",
    "    for r in range(1, n + 1):\n",
    "        # Generate all subsets of size r\n",
    "        for subset in combinations(array, r):\n",
    "            # Calculate the average of the current subset and add to total sum\n",
    "            total_sum += sum(subset) / len(subset)\n",
    "\n",
    "    return total_sum\n",
    "\n",
    "# Call Sum_averages with N increasing from 1 to 100\n",
    "Total_sum_averages = []\n",
    "for N in range(1, 101):\n",
    "    array = Random_integer(N)\n",
    "    result = Sum_averages(array)\n",
    "    Total_sum_averages.append(result)\n",
    "\n",
    "# Plot Total_sum_averages\n",
    "plt.plot(Total_sum_averages)\n",
    "plt.xlabel('N')\n",
    "plt.ylabel('Total Sum of Averages')\n",
    "plt.title('Total Sum of Averages for Subsets of Arrays with N Elements')\n",
    "plt.show()\n",
    "\n",
    "# Describe what I see\n",
    "print(\"As N increases, the total sum of averages for all subsets of the array also rises, with an accelerating trend in this increase.\")"
   ]
  },
  {
   "cell_type": "code",
   "execution_count": 86,
   "id": "f3ea32de-54a7-41f0-adde-b5b900b08e04",
   "metadata": {},
   "outputs": [
    {
     "name": "stdout",
     "output_type": "stream",
     "text": [
      "[[1 1 1 0]\n",
      " [1 1 0 1]\n",
      " [1 0 0 0]\n",
      " [1 0 1 1]]\n",
      "The total number of paths to reach the right-bottom corner cell from the top-left corner cell is: 0\n",
      "The mean of total number of paths from the 1000 runs is: 0.327\n"
     ]
    }
   ],
   "source": [
    "# 5. Path counting\n",
    "import numpy as np\n",
    "\n",
    "def create_random_matrix(N, M):\n",
    "    # Initialize matrix with random 0s and 1s\n",
    "    matrix = np.random.randint(2, size=(N, M))\n",
    "\n",
    "    # Set the top-left and bottom-right corners to 1\n",
    "    matrix[0, 0] = 1\n",
    "    matrix[-1, -1] = 1\n",
    "\n",
    "    return matrix\n",
    "\n",
    "# Example usage\n",
    "N, M = 4, 4  # Example dimensions\n",
    "matrix = create_random_matrix(N, M)\n",
    "print(matrix)\n",
    "def count_paths(matrix):\n",
    "    N, M = matrix.shape\n",
    "    # Create a dp matrix to store the number of ways to reach each cell\n",
    "    dp = np.zeros((N, M), dtype=int)\n",
    "\n",
    "    # Set the number of ways to reach the top-left corner\n",
    "    if matrix[0, 0] == 1:\n",
    "        dp[0, 0] = 1\n",
    "    else:\n",
    "        return 0  # No path exists if the starting point is blocked\n",
    "\n",
    "    # Fill the first row\n",
    "    for j in range(1, M):\n",
    "        if matrix[0, j] == 1:\n",
    "            dp[0, j] = dp[0, j - 1]\n",
    "\n",
    "    # Fill the first column\n",
    "    for i in range(1, N):\n",
    "        if matrix[i, 0] == 1:\n",
    "            dp[i, 0] = dp[i - 1, 0]\n",
    "\n",
    "    # Fill the rest of the dp matrix\n",
    "    for i in range(1, N):\n",
    "        for j in range(1, M):\n",
    "            if matrix[i, j] == 1:\n",
    "                dp[i, j] = dp[i - 1, j] + dp[i, j - 1]\n",
    "\n",
    "    # The value in the bottom-right corner is the total number of paths\n",
    "    return dp[-1, -1]\n",
    "\n",
    "# Running the function on the previous matrix\n",
    "num_paths = count_paths(matrix)\n",
    "print(\"The total number of paths to reach the right-bottom corner cell from the top-left corner cell is:\", num_paths)\n",
    "\n",
    "def run_multiple_simulations(N, M, runs=1000):\n",
    "    path_counts = []\n",
    "\n",
    "    for _ in range(runs):\n",
    "        # Create a random matrix and set corners\n",
    "        matrix = np.random.randint(2, size=(N, M))\n",
    "        matrix[0, 0] = 1\n",
    "        matrix[-1, -1] = 1\n",
    "\n",
    "        # Count paths for this matrix\n",
    "        paths = count_paths(matrix)\n",
    "        path_counts.append(paths)\n",
    "\n",
    "    # Calculate and return the mean number of paths\n",
    "    return np.mean(path_counts)\n",
    "\n",
    "\n",
    "# Run the simulation for N=10, M=8, 1000 times\n",
    "N, M = 10, 8\n",
    "mean_paths = run_multiple_simulations(N, M, 1000)\n",
    "print(\"The mean of total number of paths from the 1000 runs is:\", mean_paths)"
   ]
  }
 ],
 "metadata": {
  "kernelspec": {
   "display_name": "Python 3 (ipykernel)",
   "language": "python",
   "name": "python3"
  },
  "language_info": {
   "codemirror_mode": {
    "name": "ipython",
    "version": 3
   },
   "file_extension": ".py",
   "mimetype": "text/x-python",
   "name": "python",
   "nbconvert_exporter": "python",
   "pygments_lexer": "ipython3",
   "version": "3.11.7"
  }
 },
 "nbformat": 4,
 "nbformat_minor": 5
}
